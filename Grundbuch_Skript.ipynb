{
 "cells": [
  {
   "cell_type": "code",
   "execution_count": 5,
   "metadata": {},
   "outputs": [
    {
     "name": "stdout",
     "output_type": "stream",
     "text": [
      "The current pointer position is (1103, 536)\n"
     ]
    }
   ],
   "source": [
    "import time\n",
    "from pynput.mouse import Button, Controller\n",
    "mouse = Controller()\n",
    "from pynput.keyboard import Key, Controller\n",
    "keyboard = Controller()\n",
    "\n",
    "# Read pointer position\n",
    "print('The current pointer position is {0}'.format(\n",
    "    mouse.position))"
   ]
  },
  {
   "cell_type": "code",
   "execution_count": 8,
   "metadata": {},
   "outputs": [
    {
     "name": "stdout",
     "output_type": "stream",
     "text": [
      "10026\n",
      "10027\n",
      "10028\n",
      "10029\n",
      "10030\n",
      "10031\n",
      "10032\n",
      "10033\n",
      "10034\n",
      "10035\n",
      "10036\n",
      "10037\n",
      "10038\n",
      "10039\n"
     ]
    },
    {
     "ename": "KeyboardInterrupt",
     "evalue": "",
     "output_type": "error",
     "traceback": [
      "\u001b[1;31m---------------------------------------------------------------------------\u001b[0m",
      "\u001b[1;31mKeyboardInterrupt\u001b[0m                         Traceback (most recent call last)",
      "\u001b[1;32m<ipython-input-8-3923c1dd54a5>\u001b[0m in \u001b[0;36m<module>\u001b[1;34m\u001b[0m\n\u001b[0;32m      9\u001b[0m     \u001b[0mkeyboard\u001b[0m\u001b[1;33m.\u001b[0m\u001b[0mpress\u001b[0m\u001b[1;33m(\u001b[0m\u001b[0mKey\u001b[0m\u001b[1;33m.\u001b[0m\u001b[0menter\u001b[0m\u001b[1;33m)\u001b[0m\u001b[1;33m\u001b[0m\u001b[1;33m\u001b[0m\u001b[0m\n\u001b[0;32m     10\u001b[0m     \u001b[0mkeyboard\u001b[0m\u001b[1;33m.\u001b[0m\u001b[0mrelease\u001b[0m\u001b[1;33m(\u001b[0m\u001b[0mKey\u001b[0m\u001b[1;33m.\u001b[0m\u001b[0menter\u001b[0m\u001b[1;33m)\u001b[0m\u001b[1;33m\u001b[0m\u001b[1;33m\u001b[0m\u001b[0m\n\u001b[1;32m---> 11\u001b[1;33m     \u001b[0mtime\u001b[0m\u001b[1;33m.\u001b[0m\u001b[0msleep\u001b[0m\u001b[1;33m(\u001b[0m\u001b[1;36m20\u001b[0m\u001b[1;33m)\u001b[0m\u001b[1;33m\u001b[0m\u001b[1;33m\u001b[0m\u001b[0m\n\u001b[0m\u001b[0;32m     12\u001b[0m     \u001b[0mmouse\u001b[0m\u001b[1;33m.\u001b[0m\u001b[0mposition\u001b[0m \u001b[1;33m=\u001b[0m \u001b[1;33m(\u001b[0m\u001b[1;36m1303\u001b[0m\u001b[1;33m,\u001b[0m \u001b[1;36m932\u001b[0m\u001b[1;33m)\u001b[0m\u001b[1;33m\u001b[0m\u001b[1;33m\u001b[0m\u001b[0m\n\u001b[0;32m     13\u001b[0m     \u001b[0mmouse\u001b[0m\u001b[1;33m.\u001b[0m\u001b[0mclick\u001b[0m\u001b[1;33m(\u001b[0m\u001b[0mButton\u001b[0m\u001b[1;33m.\u001b[0m\u001b[0mleft\u001b[0m\u001b[1;33m,\u001b[0m \u001b[1;36m1\u001b[0m\u001b[1;33m)\u001b[0m\u001b[1;33m\u001b[0m\u001b[1;33m\u001b[0m\u001b[0m\n",
      "\u001b[1;31mKeyboardInterrupt\u001b[0m: "
     ]
    }
   ],
   "source": [
    "Blattnummer = 10036\n",
    "i = 1\n",
    "time.sleep(5)\n",
    "while i < 500:\n",
    "    i = i + 1\n",
    "    time.sleep(0.5)\n",
    "    Blattnummer_str = str(Blattnummer)\n",
    "    keyboard.type(Blattnummer_str)\n",
    "    keyboard.press(Key.enter) \n",
    "    keyboard.release(Key.enter)\n",
    "    time.sleep(20)\n",
    "    mouse.position = (1303, 932)\n",
    "    mouse.click(Button.left, 1)\n",
    "    time.sleep(2)\n",
    "    with keyboard.pressed(Key.ctrl):\n",
    "        keybo10040\n",
    "        ard.press('s')\n",
    "        time.sleep(0.5)\n",
    "        keyboard.release('s')\n",
    "    time.sleep(1)\n",
    "    keyboard.press(Key.enter)\n",
    "    time.sleep(0.5)\n",
    "    keyboard.release(Key.enter)\n",
    "    time.sleep(1)\n",
    "    #click away, if asked to save website\n",
    "    mouse.position = (1103, 536)\n",
    "    time.sleep(0.5)\n",
    "    mouse.click(Button.left, 1)\n",
    "    time.sleep(1)\n",
    "    #close second tab\n",
    "    mouse.position = (1426, 17)\n",
    "    time.sleep(1)\n",
    "    mouse.click(Button.left, 1)\n",
    "    time.sleep(1)\n",
    "    mouse.position =(1019, 246)\n",
    "    time.sleep(1)\n",
    "    mouse.click(Button.left, 1)\n",
    "    time.sleep(1)\n",
    "    print(Blattnummer)\n",
    "    Blattnummer = Blattnummer + 1"
   ]
  },
  {
   "cell_type": "markdown",
   "metadata": {},
   "source": [
    "\n",
    "keyboard.press('a')\n",
    "keyboard.release('a')\n",
    "\n",
    "keyboard.press(Key.space)\n",
    "keyboard.release(Key.space)"
   ]
  },
  {
   "cell_type": "code",
   "execution_count": null,
   "metadata": {},
   "outputs": [],
   "source": [
    "#    Scroll up and down your cells with your Up and Down keys.\n",
    "#    Press A or B to insert a new cell above or below the active cell.\n",
    "#    M will transform the active cell to a Markdown cell.\n",
    "#    Y will set the active cell to a code cell.\n",
    "#    D + D (D twice) will delete the active cell.\n",
    "#    Z will undo cell deletion.\n",
    "#    Hold Shift and press Up or Down to select multiple cells at once.\n",
    "#        With multiple cells selected, Shift + M will merge your selection.\n",
    "#    Ctrl + Shift + -, in edit mode, will split the active cell at the cursor.\n",
    "#    You can also click and Shift + Click in the margin to the left of your cells to select them."
   ]
  }
 ],
 "metadata": {
  "kernelspec": {
   "display_name": "Python 3",
   "language": "python",
   "name": "python3"
  },
  "language_info": {
   "codemirror_mode": {
    "name": "ipython",
    "version": 3
   },
   "file_extension": ".py",
   "mimetype": "text/x-python",
   "name": "python",
   "nbconvert_exporter": "python",
   "pygments_lexer": "ipython3",
   "version": "3.7.6"
  }
 },
 "nbformat": 4,
 "nbformat_minor": 4
}
